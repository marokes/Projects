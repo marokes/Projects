{
 "cells": [
  {
   "cell_type": "code",
   "execution_count": 2,
   "metadata": {},
   "outputs": [],
   "source": [
    "import pandas as pd"
   ]
  },
  {
   "cell_type": "code",
   "execution_count": 5,
   "metadata": {},
   "outputs": [],
   "source": [
    "t20=pd.read_csv('genr2020.csv')\n",
    "t19=pd.read_csv('genr2019.csv')\n",
    "t18=pd.read_csv('genr2018.csv')\n",
    "t17=pd.read_csv('genr2017.csv')"
   ]
  },
  {
   "cell_type": "code",
   "execution_count": 11,
   "metadata": {},
   "outputs": [
    {
     "data": {
      "text/html": [
       "<div>\n",
       "<style scoped>\n",
       "    .dataframe tbody tr th:only-of-type {\n",
       "        vertical-align: middle;\n",
       "    }\n",
       "\n",
       "    .dataframe tbody tr th {\n",
       "        vertical-align: top;\n",
       "    }\n",
       "\n",
       "    .dataframe thead th {\n",
       "        text-align: right;\n",
       "    }\n",
       "</style>\n",
       "<table border=\"1\" class=\"dataframe\">\n",
       "  <thead>\n",
       "    <tr style=\"text-align: right;\">\n",
       "      <th></th>\n",
       "      <th>genre</th>\n",
       "      <th>Streams</th>\n",
       "    </tr>\n",
       "  </thead>\n",
       "  <tbody>\n",
       "    <tr>\n",
       "      <th>0</th>\n",
       "      <td>pop</td>\n",
       "      <td>41059914929</td>\n",
       "    </tr>\n",
       "    <tr>\n",
       "      <th>1</th>\n",
       "      <td>latin</td>\n",
       "      <td>38090873660</td>\n",
       "    </tr>\n",
       "    <tr>\n",
       "      <th>2</th>\n",
       "      <td>r&amp;b</td>\n",
       "      <td>30709514286</td>\n",
       "    </tr>\n",
       "    <tr>\n",
       "      <th>3</th>\n",
       "      <td>edm</td>\n",
       "      <td>27434779788</td>\n",
       "    </tr>\n",
       "    <tr>\n",
       "      <th>4</th>\n",
       "      <td>rap</td>\n",
       "      <td>21384715530</td>\n",
       "    </tr>\n",
       "    <tr>\n",
       "      <th>5</th>\n",
       "      <td>rock</td>\n",
       "      <td>5104692400</td>\n",
       "    </tr>\n",
       "  </tbody>\n",
       "</table>\n",
       "</div>"
      ],
      "text/plain": [
       "   genre      Streams\n",
       "0    pop  41059914929\n",
       "1  latin  38090873660\n",
       "2    r&b  30709514286\n",
       "3    edm  27434779788\n",
       "4    rap  21384715530\n",
       "5   rock   5104692400"
      ]
     },
     "execution_count": 11,
     "metadata": {},
     "output_type": "execute_result"
    }
   ],
   "source": [
    "t20"
   ]
  },
  {
   "cell_type": "code",
   "execution_count": 12,
   "metadata": {},
   "outputs": [],
   "source": [
    "pop_data=[[2017,21357626515],[2018,21932533173],[2019,41830993759],[2020,41059914929]]\n",
    "\n",
    "latin_data=[[2017,7567535721],[2018,5817582141],[2019,20997201788],[2020,38090873660]]\n",
    "\n",
    "rb_data=[[2017,12247715536],[2018,16208889229],[2019,19236799154],[2020,30709514286]]\n",
    "\n",
    "edm_data=[[2017,16044267752],[2018,17295900590],[2019,20966853792],[2020,27434779788]]\n",
    "\n",
    "rap_data=[[2017,6515460192],[2018,14191964376],[2019,13618912216],[2020,21384715530]]\n",
    "\n",
    "rock_data=[[2017,1763278830],[2018,3026046813],[2019,4384153106],[2020,5104692400]]"
   ]
  },
  {
   "cell_type": "code",
   "execution_count": 18,
   "metadata": {},
   "outputs": [],
   "source": [
    "pop=pd.DataFrame(data=pop_data, index=[1,2,3,4],  columns=[ 'year', 'Streams' ])\n",
    "latin=pd.DataFrame(data=latin_data, index=[1,2,3,4],  columns=[ 'year', 'Streams' ])\n",
    "rb=pd.DataFrame(data=rb_data, index=[1,2,3,4],  columns=[ 'year', 'Streams' ])\n",
    "rap=pd.DataFrame(data=rap_data, index=[1,2,3,4],  columns=[ 'year', 'Streams' ])\n",
    "edm=pd.DataFrame(data=edm_data, index=[1,2,3,4],  columns=[ 'year', 'Streams' ])\n",
    "rock=pd.DataFrame(data=rock_data, index=[1,2,3,4],  columns=[ 'year', 'Streams' ])"
   ]
  },
  {
   "cell_type": "code",
   "execution_count": null,
   "metadata": {},
   "outputs": [],
   "source": []
  },
  {
   "cell_type": "code",
   "execution_count": null,
   "metadata": {},
   "outputs": [],
   "source": []
  }
 ],
 "metadata": {
  "kernelspec": {
   "display_name": "Python 3",
   "language": "python",
   "name": "python3"
  },
  "language_info": {
   "codemirror_mode": {
    "name": "ipython",
    "version": 3
   },
   "file_extension": ".py",
   "mimetype": "text/x-python",
   "name": "python",
   "nbconvert_exporter": "python",
   "pygments_lexer": "ipython3",
   "version": "3.8.5"
  }
 },
 "nbformat": 4,
 "nbformat_minor": 4
}
